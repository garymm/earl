{
 "cells": [
  {
   "cell_type": "code",
   "execution_count": 11,
   "metadata": {},
   "outputs": [
    {
     "name": "stdout",
     "output_type": "stream",
     "text": [
      "The autoreload extension is already loaded. To reload it, use:\n",
      "  %reload_ext autoreload\n"
     ]
    }
   ],
   "source": [
    "%load_ext autoreload\n",
    "%autoreload 1\n",
    "%aimport earl.agents.r2d2.networks\n",
    "%aimport earl.agents.r2d2.r2d2\n",
    "%aimport earl.agents.r2d2.utils\n",
    "%aimport earl.core"
   ]
  },
  {
   "cell_type": "code",
   "execution_count": 12,
   "metadata": {},
   "outputs": [],
   "source": [
    "import math\n",
    "\n",
    "import ale_py\n",
    "import gymnasium\n",
    "import jax\n",
    "import jax.numpy as jnp\n",
    "import numpy as np\n",
    "from jax_loop_utils.metric_writers.torch import TensorboardWriter\n",
    "\n",
    "from earl.agents.r2d2 import utils\n",
    "import earl.agents.r2d2.networks as r2d2_networks\n",
    "from earl.agents.r2d2.r2d2 import R2D2, R2D2Config\n",
    "from earl.core import env_info_from_gymnasium, env_info_from_gymnax\n",
    "from earl.environment_loop.gymnasium_loop import GymnasiumLoop\n",
    "from earl.environment_loop.gymnax_loop import GymnaxLoop\n",
    "\n",
    "gymnasium.register_envs(ale_py)  # suppress unused import warning"
   ]
  },
  {
   "cell_type": "markdown",
   "metadata": {},
   "source": [
    "## init environment"
   ]
  },
  {
   "cell_type": "code",
   "execution_count": 13,
   "metadata": {},
   "outputs": [],
   "source": [
    "import gymnax.environments.spaces\n",
    "from gymnax.environments.minatar.asterix import MinAsterix\n",
    "\n",
    "env = MinAsterix()\n",
    "num_envs = 64\n",
    "env_params = env.default_params\n",
    "env_info = env_info_from_gymnax(env, env_params, num_envs)\n",
    "action_space = env.action_space(env_params)\n",
    "assert isinstance(action_space, gymnax.environments.spaces.Discrete), action_space\n",
    "num_actions = int(action_space.n)\n",
    "observation_space = env.observation_space(env_params)\n",
    "assert isinstance(observation_space, gymnax.environments.spaces.Box), observation_space\n"
   ]
  },
  {
   "cell_type": "markdown",
   "metadata": {},
   "source": [
    "## init networks and agent"
   ]
  },
  {
   "cell_type": "code",
   "execution_count": 14,
   "metadata": {},
   "outputs": [
    {
     "name": "stdout",
     "output_type": "stream",
     "text": [
      "running on 2 gpu devices\n"
     ]
    }
   ],
   "source": [
    "hidden_size = 64\n",
    "key = jax.random.PRNGKey(0)\n",
    "networks_key, loop_key, agent_key = jax.random.split(key, 3)\n",
    "networks = r2d2_networks.make_networks_mlp(\n",
    "    num_actions=num_actions,\n",
    "    input_size=int(math.prod(observation_space.shape)),\n",
    "    dtype=jnp.float32,\n",
    "    hidden_size=hidden_size,\n",
    "    key=networks_key,\n",
    ")\n",
    "num_cycles = 5_000\n",
    "steps_per_cycle = 80\n",
    "devices = jax.local_devices()\n",
    "print(f\"running on {len(devices)} {devices[0].platform} devices\")\n",
    "config = R2D2Config(\n",
    "    epsilon_greedy_schedule_args=dict(\n",
    "      init_value=0.1, end_value=0.01, transition_steps=steps_per_cycle * num_cycles\n",
    "    ),\n",
    "    num_envs_per_learner=num_envs,\n",
    "    replay_seq_length=steps_per_cycle,\n",
    "    buffer_capacity=steps_per_cycle * 10,\n",
    "    burn_in=40,\n",
    "    learning_rate_schedule_name=\"cosine_onecycle_schedule\",\n",
    "    learning_rate_schedule_args=dict(\n",
    "      transition_steps=steps_per_cycle * num_cycles // 2,\n",
    "      peak_value=1e-4 * len(devices),\n",
    "    ),\n",
    ")\n",
    "agent = R2D2(env_info, config)\n",
    "loop_state = agent.new_state(networks, agent_key)\n"
   ]
  },
  {
   "cell_type": "markdown",
   "metadata": {},
   "source": [
    "## init metric writer and training loop\n",
    "\n",
    "run in `actor_only` and pass `observe_cycle` to render a video of initial performance\n"
   ]
  },
  {
   "cell_type": "code",
   "execution_count": 15,
   "metadata": {},
   "outputs": [],
   "source": [
    "metric_writer = TensorboardWriter(logdir=\"logs/MinAsterix/before_training\")\n",
    "gymnax_loop = GymnaxLoop(\n",
    "    env,\n",
    "    env_params,\n",
    "    agent,\n",
    "    num_envs,\n",
    "    loop_key,\n",
    "    actor_only=True,\n",
    "    observe_cycle=utils.render_minatar_cycle,\n",
    "    metric_writer=metric_writer,\n",
    "    devices=devices,\n",
    ")"
   ]
  },
  {
   "cell_type": "code",
   "execution_count": 16,
   "metadata": {},
   "outputs": [
    {
     "name": "stdout",
     "output_type": "stream",
     "text": [
      "The tensorboard extension is already loaded. To reload it, use:\n",
      "  %reload_ext tensorboard\n"
     ]
    },
    {
     "data": {
      "text/plain": [
       "Reusing TensorBoard on port 6006 (pid 2661613), started 0:07:40 ago. (Use '!kill 2661613' to kill it.)"
      ]
     },
     "metadata": {},
     "output_type": "display_data"
    },
    {
     "data": {
      "text/html": [
       "\n",
       "      <iframe id=\"tensorboard-frame-c61648c271994468\" width=\"100%\" height=\"800\" frameborder=\"0\">\n",
       "      </iframe>\n",
       "      <script>\n",
       "        (function() {\n",
       "          const frame = document.getElementById(\"tensorboard-frame-c61648c271994468\");\n",
       "          const url = new URL(\"http://localhost\");\n",
       "          const port = 6006;\n",
       "          if (port) {\n",
       "            url.port = port;\n",
       "          }\n",
       "          frame.src = url;\n",
       "        })();\n",
       "      </script>\n",
       "    "
      ],
      "text/plain": [
       "<IPython.core.display.HTML object>"
      ]
     },
     "metadata": {},
     "output_type": "display_data"
    }
   ],
   "source": [
    "%load_ext tensorboard\n",
    "%tensorboard --logdir logs\n"
   ]
  },
  {
   "cell_type": "markdown",
   "metadata": {},
   "source": [
    "## run one cycle to gather video\n",
    "\n",
    "It will show up in the Images tab of Tensorboard"
   ]
  },
  {
   "cell_type": "code",
   "execution_count": 17,
   "metadata": {},
   "outputs": [
    {
     "name": "stderr",
     "output_type": "stream",
     "text": [
      "/home/user/src/garymm/earl/.venv/lib/python3.12/site-packages/jax/_src/ops/scatter.py:92: FutureWarning: scatter inputs have incompatible types: cannot safely cast value from dtype=int32 to dtype=bool with jax_numpy_dtype_promotion='standard'. In future JAX releases this will result in an error.\n",
      "  warnings.warn(\n",
      "cycles:   0%|          | 0/1 [00:00<?, ?cycle/s]/home/user/src/garymm/earl/.venv/lib/python3.12/site-packages/jax/_src/ops/scatter.py:92: FutureWarning: scatter inputs have incompatible types: cannot safely cast value from dtype=int32 to dtype=bool with jax_numpy_dtype_promotion='standard'. In future JAX releases this will result in an error.\n",
      "  warnings.warn(\n",
      "                                                        \r"
     ]
    }
   ],
   "source": [
    "loop_state = gymnax_loop.run(loop_state, 1, 2*steps_per_cycle)\n",
    "metric_writer.close()"
   ]
  },
  {
   "cell_type": "markdown",
   "metadata": {},
   "source": [
    "## train"
   ]
  },
  {
   "cell_type": "code",
   "execution_count": null,
   "metadata": {},
   "outputs": [
    {
     "name": "stderr",
     "output_type": "stream",
     "text": [
      "cycles:  60%|██████    | 3017/5000 [07:16<04:40,  7.08cycle/s]"
     ]
    }
   ],
   "source": [
    "metric_writer = TensorboardWriter(logdir=\"logs/MinAsterix/after_training\")\n",
    "gymnax_loop = GymnaxLoop(\n",
    "    env,\n",
    "    env_params,\n",
    "    agent,\n",
    "    num_envs,\n",
    "    loop_key,\n",
    "    metric_writer=metric_writer,\n",
    "    devices=devices,\n",
    ")\n",
    "loop_state = gymnax_loop.run(loop_state, num_cycles, steps_per_cycle)\n"
   ]
  },
  {
   "cell_type": "markdown",
   "metadata": {},
   "source": [
    "## run one cycle to gather video\n",
    "\n",
    "It will show up in the Images tab of Tensorboard"
   ]
  },
  {
   "cell_type": "code",
   "execution_count": null,
   "metadata": {},
   "outputs": [],
   "source": [
    "gymnax_loop = GymnaxLoop(\n",
    "    env,\n",
    "    env_params,\n",
    "    agent,\n",
    "    num_envs,\n",
    "    loop_key,\n",
    "    actor_only=True,\n",
    "    observe_cycle=utils.render_minatar_cycle,\n",
    "    metric_writer=metric_writer,\n",
    "    devices=devices,\n",
    ")\n",
    "loop_state = gymnax_loop.run(loop_state, 1, 2*steps_per_cycle)\n",
    "metric_writer.close()"
   ]
  }
 ],
 "metadata": {
  "kernelspec": {
   "display_name": ".venv",
   "language": "python",
   "name": "python3"
  },
  "language_info": {
   "codemirror_mode": {
    "name": "ipython",
    "version": 3
   },
   "file_extension": ".py",
   "mimetype": "text/x-python",
   "name": "python",
   "nbconvert_exporter": "python",
   "pygments_lexer": "ipython3",
   "version": "3.12.8"
  }
 },
 "nbformat": 4,
 "nbformat_minor": 2
}
