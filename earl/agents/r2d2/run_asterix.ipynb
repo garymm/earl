{
 "cells": [
  {
   "cell_type": "markdown",
   "metadata": {},
   "source": [
    "# Earl R2D2 demo\n",
    "\n",
    "This notebook will train an [R2D2](https://openreview.net/forum?id=r1lyTjAqYX) agent on two very similar environments using the two different environment loops which implement the two [Podracer architectures](https://arxiv.org/abs/2104.06272).\n",
    "\n",
    "We will train an agent on the Atari game \"Asterix\"."
   ]
  },
  {
   "cell_type": "code",
   "execution_count": 1,
   "metadata": {},
   "outputs": [],
   "source": [
    "%load_ext autoreload\n",
    "%autoreload 1\n",
    "%aimport earl.agents.r2d2.networks\n",
    "%aimport earl.agents.r2d2.r2d2\n",
    "%aimport earl.agents.r2d2.utils\n",
    "%aimport earl.core"
   ]
  },
  {
   "cell_type": "code",
   "execution_count": 2,
   "metadata": {},
   "outputs": [],
   "source": [
    "import io\n",
    "import math\n",
    "import os\n",
    "import time\n",
    "\n",
    "import ale_py\n",
    "import gymnasium\n",
    "import jax\n",
    "import jax.numpy as jnp\n",
    "from IPython.display import Image\n",
    "from jax_loop_utils.metric_writers._audio_video import encode_video_to_gif\n",
    "from jax_loop_utils.metric_writers.async_writer import AsyncWriter\n",
    "from jax_loop_utils.metric_writers.memory_writer import MemoryWriter\n",
    "from jax_loop_utils.metric_writers.torch import TensorboardWriter\n",
    "\n",
    "import earl.agents.r2d2.networks as r2d2_networks\n",
    "from earl.agents.r2d2 import utils\n",
    "from earl.agents.r2d2.r2d2 import R2D2, R2D2Config\n",
    "from earl.core import env_info_from_gymnasium, env_info_from_gymnax\n",
    "from earl.environment_loop.gymnasium_loop import GymnasiumLoop\n",
    "from earl.environment_loop.gymnax_loop import GymnaxLoop\n",
    "\n",
    "gymnasium.register_envs(ale_py)  # suppress unused import warning"
   ]
  },
  {
   "cell_type": "markdown",
   "metadata": {},
   "source": [
    "## Gymnax (Anakin)  \n",
    "\n",
    "GymnaxLoop is for Anakin-style training, meaning the environment is jax.jit-compatible and runs on the same device as the learning.\n",
    "\n",
    "We will use an implementation of Asterix in JAX that has simplified graphics.\n"
   ]
  },
  {
   "cell_type": "markdown",
   "metadata": {},
   "source": [
    "### init environment"
   ]
  },
  {
   "cell_type": "code",
   "execution_count": 26,
   "metadata": {},
   "outputs": [],
   "source": [
    "import gymnax.environments.spaces\n",
    "from gymnax.environments.minatar.asterix import MinAsterix\n",
    "\n",
    "env = MinAsterix()\n",
    "num_envs = 512\n",
    "env_params = env.default_params\n",
    "env_info = env_info_from_gymnax(env, env_params, num_envs)\n",
    "action_space = env.action_space(env_params)\n",
    "assert isinstance(action_space, gymnax.environments.spaces.Discrete), action_space\n",
    "num_actions = int(action_space.n)\n",
    "observation_space = env.observation_space(env_params)\n",
    "assert isinstance(observation_space, gymnax.environments.spaces.Box), observation_space\n"
   ]
  },
  {
   "cell_type": "markdown",
   "metadata": {},
   "source": [
    "### init networks and agent"
   ]
  },
  {
   "cell_type": "code",
   "execution_count": 27,
   "metadata": {},
   "outputs": [
    {
     "name": "stdout",
     "output_type": "stream",
     "text": [
      "running on 2 gpu devices\n"
     ]
    }
   ],
   "source": [
    "hidden_size = 64\n",
    "key = jax.random.PRNGKey(0)\n",
    "networks_key, loop_key, agent_key = jax.random.split(key, 3)\n",
    "networks = r2d2_networks.make_networks_mlp(\n",
    "    num_actions=num_actions,\n",
    "    input_size=int(math.prod(observation_space.shape)),\n",
    "    dtype=jnp.float32,\n",
    "    hidden_size=hidden_size,\n",
    "    key=networks_key,\n",
    ")\n",
    "num_cycles = 3_500\n",
    "steps_per_cycle = 80\n",
    "devices = jax.local_devices()\n",
    "print(f\"running on {len(devices)} {devices[0].platform} devices\")\n",
    "config = R2D2Config(\n",
    "    epsilon_greedy_schedule_args=dict(\n",
    "      init_value=0.9, end_value=0.01, transition_steps=steps_per_cycle * 1_000\n",
    "    ),\n",
    "    num_envs_per_learner=num_envs,\n",
    "    replay_seq_length=steps_per_cycle,\n",
    "    buffer_capacity=steps_per_cycle * 10,\n",
    "    burn_in=40,\n",
    "    learning_rate_schedule_name=\"cosine_onecycle_schedule\",\n",
    "    learning_rate_schedule_args=dict(\n",
    "      transition_steps=steps_per_cycle * 2_500,\n",
    "      # NOTE: more devices effectively means a larger batch size, so we\n",
    "      # scale the learning rate up to train faster!\n",
    "      peak_value=5e-5 * len(devices),\n",
    "    ),\n",
    "    target_update_step_size=0.00,\n",
    "    target_update_period=500,\n",
    ")\n",
    "agent = R2D2(env_info, config)\n",
    "loop_state = agent.new_state(networks, agent_key)\n"
   ]
  },
  {
   "cell_type": "markdown",
   "metadata": {},
   "source": [
    "### run one cycle in actor_only mode to gather video\n",
    "\n",
    "run in `actor_only` and pass `observe_cycle` to render a video of initial performance"
   ]
  },
  {
   "cell_type": "code",
   "execution_count": 28,
   "metadata": {},
   "outputs": [
    {
     "name": "stderr",
     "output_type": "stream",
     "text": [
      "/home/user/src/garymm/earl/.venv/lib/python3.12/site-packages/jax/_src/ops/scatter.py:92: FutureWarning: scatter inputs have incompatible types: cannot safely cast value from dtype=int32 to dtype=bool with jax_numpy_dtype_promotion='standard'. In future JAX releases this will result in an error.\n",
      "  warnings.warn(\n",
      "cycles:   0%|          | 0/1 [00:00<?, ?cycle/s]/home/user/src/garymm/earl/.venv/lib/python3.12/site-packages/jax/_src/ops/scatter.py:92: FutureWarning: scatter inputs have incompatible types: cannot safely cast value from dtype=int32 to dtype=bool with jax_numpy_dtype_promotion='standard'. In future JAX releases this will result in an error.\n",
      "  warnings.warn(\n",
      "                                                        \r"
     ]
    },
    {
     "data": {
      "image/gif": "[encoded data removed]",
      "text/plain": [
       "<IPython.core.display.Image object>"
      ]
     },
     "execution_count": 28,
     "metadata": {},
     "output_type": "execute_result"
    }
   ],
   "source": [
    "metric_writer = MemoryWriter()\n",
    "eval_loop = GymnaxLoop(\n",
    "    env,\n",
    "    env_params,\n",
    "    agent,\n",
    "    num_envs,\n",
    "    loop_key,\n",
    "    actor_only=True,\n",
    "    observe_cycle=utils.render_minatar_cycle,\n",
    "    metric_writer=metric_writer,\n",
    "    devices=devices,\n",
    ")\n",
    "loop_state = eval_loop.run(loop_state, 1, 2*steps_per_cycle)\n",
    "video_buf = io.BytesIO()\n",
    "video_array = next(iter(metric_writer.videos.values()))['video']\n",
    "encode_video_to_gif(video_array, video_buf)\n",
    "Image(video_buf.getvalue())"
   ]
  },
  {
   "cell_type": "markdown",
   "metadata": {},
   "source": [
    "### train"
   ]
  },
  {
   "cell_type": "code",
   "execution_count": 29,
   "metadata": {},
   "outputs": [
    {
     "name": "stdout",
     "output_type": "stream",
     "text": [
      "The tensorboard extension is already loaded. To reload it, use:\n",
      "  %reload_ext tensorboard\n"
     ]
    },
    {
     "data": {
      "text/plain": [
       "Reusing TensorBoard on port 6006 (pid 2661613), started 17:41:05 ago. (Use '!kill 2661613' to kill it.)"
      ]
     },
     "metadata": {},
     "output_type": "display_data"
    },
    {
     "data": {
      "text/html": [
       "\n",
       "      <iframe id=\"tensorboard-frame-90c4b0ffc093c55b\" width=\"100%\" height=\"800\" frameborder=\"0\">\n",
       "      </iframe>\n",
       "      <script>\n",
       "        (function() {\n",
       "          const frame = document.getElementById(\"tensorboard-frame-90c4b0ffc093c55b\");\n",
       "          const url = new URL(\"http://localhost\");\n",
       "          const port = 6006;\n",
       "          if (port) {\n",
       "            url.port = port;\n",
       "          }\n",
       "          frame.src = url;\n",
       "        })();\n",
       "      </script>\n",
       "    "
      ],
      "text/plain": [
       "<IPython.core.display.HTML object>"
      ]
     },
     "metadata": {},
     "output_type": "display_data"
    }
   ],
   "source": [
    "%load_ext tensorboard\n",
    "%tensorboard --logdir logs\n"
   ]
  },
  {
   "cell_type": "code",
   "execution_count": 30,
   "metadata": {},
   "outputs": [
    {
     "name": "stderr",
     "output_type": "stream",
     "text": [
      "cycles:   0%|          | 0/3500 [00:00<?, ?cycle/s]"
     ]
    },
    {
     "name": "stderr",
     "output_type": "stream",
     "text": [
      "                                                              \r"
     ]
    }
   ],
   "source": [
    "metric_writer = AsyncWriter(TensorboardWriter(logdir=\"logs/MinAsterix\"))\n",
    "train_loop = GymnaxLoop(\n",
    "    env,\n",
    "    env_params,\n",
    "    agent,\n",
    "    num_envs,\n",
    "    loop_key,\n",
    "    metric_writer=metric_writer,\n",
    "    devices=devices,\n",
    ")\n",
    "training_start_time = time.monotonic()\n",
    "loop_state = train_loop.run(loop_state, num_cycles, steps_per_cycle)\n"
   ]
  },
  {
   "cell_type": "code",
   "execution_count": 31,
   "metadata": {},
   "outputs": [
    {
     "name": "stdout",
     "output_type": "stream",
     "text": [
      "Training took 645.97 seconds\n",
      "steps per second: 443856.79\n",
      "learner updates per second: 8669.08\n"
     ]
    }
   ],
   "source": [
    "elapsed_time = time.monotonic() - training_start_time\n",
    "print(f\"Training took {elapsed_time:.2f} seconds\")\n",
    "total_env_steps = steps_per_cycle * num_cycles * num_envs * len(devices)\n",
    "print(f\"steps per second: {total_env_steps / elapsed_time:.2f}\")\n",
    "total_learner_updates = (\n",
    "    steps_per_cycle * num_cycles * len(devices) * config.num_off_policy_optims_per_cycle)\n",
    "print(f\"learner updates per second: {total_learner_updates / elapsed_time :.2f}\")\n"
   ]
  },
  {
   "cell_type": "markdown",
   "metadata": {},
   "source": [
    "### run one cycle to gather video\n",
    "\n",
    "We can also write the video to tensorboard instead of in memory.\n",
    "\n",
    "Once the cell below runs, the video will show up in the Images tab of Tensorboard."
   ]
  },
  {
   "cell_type": "code",
   "execution_count": 32,
   "metadata": {},
   "outputs": [
    {
     "name": "stderr",
     "output_type": "stream",
     "text": [
      "                                                        \r"
     ]
    },
    {
     "data": {
      "image/gif": "[encoded data removed]",
      "text/plain": [
       "<IPython.core.display.Image object>"
      ]
     },
     "execution_count": 32,
     "metadata": {},
     "output_type": "execute_result"
    }
   ],
   "source": [
    "metric_writer = MemoryWriter()\n",
    "eval_loop = GymnaxLoop(\n",
    "    env,\n",
    "    env_params,\n",
    "    agent,\n",
    "    num_envs,\n",
    "    loop_key,\n",
    "    actor_only=True,\n",
    "    observe_cycle=utils.render_minatar_cycle,\n",
    "    metric_writer=metric_writer,\n",
    "    devices=devices,\n",
    ")\n",
    "loop_state = eval_loop.run(loop_state, 1, 2*steps_per_cycle)\n",
    "video_buf = io.BytesIO()\n",
    "video_array = next(iter(metric_writer.videos.values()))['video']\n",
    "encode_video_to_gif(video_array, video_buf)\n",
    "Image(video_buf.getvalue())"
   ]
  },
  {
   "cell_type": "markdown",
   "metadata": {},
   "source": [
    "## Gymnasium (Sebulba)  \n",
    "\n",
    "GymnaxLoop is for Sebulba-style training, meaning the environment is *not* jax.jit-compatible and we have separate actor and learner devices.\n",
    "\n",
    "We will train on the actual Atari game Asterix using the Arcade Learning Environment."
   ]
  },
  {
   "cell_type": "markdown",
   "metadata": {},
   "source": [
    "### init environment"
   ]
  },
  {
   "cell_type": "code",
   "execution_count": 3,
   "metadata": {},
   "outputs": [
    {
     "name": "stderr",
     "output_type": "stream",
     "text": [
      "A.L.E: Arcade Learning Environment (version 0.10.2+c9d4b19)\n",
      "[Powered by Stella]\n"
     ]
    },
    {
     "name": "stdout",
     "output_type": "stream",
     "text": [
      "running on 1 actor devices and 1 learner devices\n",
      "running on 32 environments per actor thread\n"
     ]
    }
   ],
   "source": [
    "env = gymnasium.make(\"AsterixNoFrameskip-v4\")\n",
    "env = gymnasium.wrappers.AtariPreprocessing(env, noop_max=0)\n",
    "stack_size = 4\n",
    "env = gymnasium.wrappers.FrameStackObservation(env, stack_size=stack_size)\n",
    "assert isinstance(env.action_space, gymnasium.spaces.Discrete)\n",
    "num_actions = int(env.action_space.n)\n",
    "devices = jax.local_devices()\n",
    "if len(devices) > 1:\n",
    "    actor_devices = devices[:max(1, len(devices)//3)]\n",
    "    learner_devices = devices[len(actor_devices):]\n",
    "else:\n",
    "    actor_devices = devices\n",
    "    learner_devices = devices\n",
    "print(f\"running on {len(actor_devices)} actor devices and {len(learner_devices)} learner devices\")\n",
    "if actor_devices == learner_devices:\n",
    "    print(\"WARNING: actor and learner devices are the same. They will compete for the devices.\")\n",
    "cpu_count = os.cpu_count() or 0\n",
    "num_envs = min(32, max(cpu_count // len(actor_devices), 1))\n",
    "assert not num_envs % len(learner_devices), \"num_envs must be divisible by len(learner_devices)\"\n",
    "print(f\"running on {num_envs} environments per actor thread\")\n",
    "env_info = env_info_from_gymnasium(env, num_envs)"
   ]
  },
  {
   "cell_type": "markdown",
   "metadata": {},
   "source": [
    "### init networks and agent"
   ]
  },
  {
   "cell_type": "code",
   "execution_count": 4,
   "metadata": {},
   "outputs": [],
   "source": [
    "hidden_size = 512\n",
    "key = jax.random.PRNGKey(0)\n",
    "networks_key, loop_key, agent_key = jax.random.split(key, 3)\n",
    "networks = r2d2_networks.make_networks_resnet(\n",
    "    num_actions=num_actions,\n",
    "    in_channels=stack_size,\n",
    "    hidden_size=hidden_size,\n",
    "    key=networks_key,\n",
    ")\n",
    "num_cycles = 10_000\n",
    "steps_per_cycle = 80\n",
    "\n",
    "config = R2D2Config(\n",
    "    epsilon_greedy_schedule_args=dict(\n",
    "      init_value=0.9, end_value=0.01, transition_steps=steps_per_cycle * 1_000\n",
    "    ),\n",
    "    num_envs_per_learner=num_envs // len(learner_devices),\n",
    "    replay_seq_length=steps_per_cycle,\n",
    "    buffer_capacity=steps_per_cycle * 10,\n",
    "    burn_in=40,\n",
    "    learning_rate_schedule_name=\"cosine_onecycle_schedule\",\n",
    "    learning_rate_schedule_args=dict(\n",
    "      transition_steps=steps_per_cycle * 2_500,\n",
    "      # NOTE: more devices effectively means a larger batch size, so we\n",
    "      # scale the learning rate up to train faster!\n",
    "      peak_value=5e-5 * len(devices),\n",
    "    ),\n",
    "    target_update_step_size=0.00,\n",
    "    target_update_period=500,\n",
    ")\n",
    "agent = R2D2(env_info, config)\n",
    "loop_state = agent.new_state(networks, agent_key)"
   ]
  },
  {
   "cell_type": "markdown",
   "metadata": {},
   "source": [
    "### run one cycle in actor_only mode to gather video\n",
    "\n",
    "run in `actor_only` and pass `observe_cycle` to render a video of initial performance"
   ]
  },
  {
   "cell_type": "code",
   "execution_count": 5,
   "metadata": {},
   "outputs": [
    {
     "name": "stderr",
     "output_type": "stream",
     "text": [
      "A.L.E: Arcade Learning Environment (version 0.10.2+c9d4b19)\n",
      "[Powered by Stella]\n",
      "A.L.E: Arcade Learning Environment (version 0.10.2+c9d4b19)\n",
      "[Powered by Stella]\n",
      "A.L.E: Arcade Learning Environment (version 0.10.2+c9d4b19)\n",
      "[Powered by Stella]\n",
      "A.L.E: Arcade Learning Environment (version 0.10.2+c9d4b19)\n",
      "[Powered by Stella]\n",
      "A.L.E: Arcade Learning Environment (version 0.10.2+c9d4b19)\n",
      "[Powered by Stella]\n",
      "A.L.E: Arcade Learning Environment (version 0.10.2+c9d4b19)\n",
      "[Powered by Stella]\n",
      "A.L.E: Arcade Learning Environment (version 0.10.2+c9d4b19)\n",
      "[Powered by Stella]\n",
      "A.L.E: Arcade Learning Environment (version 0.10.2+c9d4b19)\n",
      "[Powered by Stella]\n",
      "A.L.E: Arcade Learning Environment (version 0.10.2+c9d4b19)\n",
      "[Powered by Stella]\n",
      "A.L.E: Arcade Learning Environment (version 0.10.2+c9d4b19)\n",
      "[Powered by Stella]\n",
      "A.L.E: Arcade Learning Environment (version 0.10.2+c9d4b19)\n",
      "[Powered by Stella]\n",
      "A.L.E: Arcade Learning Environment (version 0.10.2+c9d4b19)\n",
      "[Powered by Stella]\n",
      "A.L.E: Arcade Learning Environment (version 0.10.2+c9d4b19)\n",
      "[Powered by Stella]\n",
      "A.L.E: Arcade Learning Environment (version 0.10.2+c9d4b19)\n",
      "[Powered by Stella]\n",
      "A.L.E: Arcade Learning Environment (version 0.10.2+c9d4b19)\n",
      "[Powered by Stella]\n",
      "A.L.E: Arcade Learning Environment (version 0.10.2+c9d4b19)\n",
      "[Powered by Stella]\n",
      "A.L.E: Arcade Learning Environment (version 0.10.2+c9d4b19)\n",
      "[Powered by Stella]\n",
      "A.L.E: Arcade Learning Environment (version 0.10.2+c9d4b19)\n",
      "[Powered by Stella]\n",
      "A.L.E: Arcade Learning Environment (version 0.10.2+c9d4b19)\n",
      "[Powered by Stella]\n",
      "A.L.E: Arcade Learning Environment (version 0.10.2+c9d4b19)\n",
      "[Powered by Stella]\n",
      "A.L.E: Arcade Learning Environment (version 0.10.2+c9d4b19)\n",
      "[Powered by Stella]\n",
      "A.L.E: Arcade Learning Environment (version 0.10.2+c9d4b19)\n",
      "[Powered by Stella]\n",
      "A.L.E: Arcade Learning Environment (version 0.10.2+c9d4b19)\n",
      "[Powered by Stella]\n",
      "A.L.E: Arcade Learning Environment (version 0.10.2+c9d4b19)\n",
      "[Powered by Stella]\n",
      "A.L.E: Arcade Learning Environment (version 0.10.2+c9d4b19)\n",
      "[Powered by Stella]\n",
      "A.L.E: Arcade Learning Environment (version 0.10.2+c9d4b19)\n",
      "[Powered by Stella]\n",
      "A.L.E: Arcade Learning Environment (version 0.10.2+c9d4b19)\n",
      "[Powered by Stella]\n",
      "A.L.E: Arcade Learning Environment (version 0.10.2+c9d4b19)\n",
      "[Powered by Stella]\n",
      "A.L.E: Arcade Learning Environment (version 0.10.2+c9d4b19)\n",
      "[Powered by Stella]\n",
      "A.L.E: Arcade Learning Environment (version 0.10.2+c9d4b19)\n",
      "[Powered by Stella]\n",
      "A.L.E: Arcade Learning Environment (version 0.10.2+c9d4b19)\n",
      "[Powered by Stella]\n",
      "A.L.E: Arcade Learning Environment (version 0.10.2+c9d4b19)\n",
      "[Powered by Stella]\n",
      "A.L.E: Arcade Learning Environment (version 0.10.2+c9d4b19)\n",
      "[Powered by Stella]\n",
      "A.L.E: Arcade Learning Environment (version 0.10.2+c9d4b19)\n",
      "[Powered by Stella]\n",
      "A.L.E: Arcade Learning Environment (version 0.10.2+c9d4b19)\n",
      "[Powered by Stella]\n",
      "A.L.E: Arcade Learning Environment (version 0.10.2+c9d4b19)\n",
      "[Powered by Stella]\n",
      "A.L.E: Arcade Learning Environment (version 0.10.2+c9d4b19)\n",
      "[Powered by Stella]\n",
      "A.L.E: Arcade Learning Environment (version 0.10.2+c9d4b19)\n",
      "[Powered by Stella]\n",
      "A.L.E: Arcade Learning Environment (version 0.10.2+c9d4b19)\n",
      "[Powered by Stella]\n",
      "A.L.E: Arcade Learning Environment (version 0.10.2+c9d4b19)\n",
      "[Powered by Stella]\n",
      "A.L.E: Arcade Learning Environment (version 0.10.2+c9d4b19)\n",
      "[Powered by Stella]\n",
      "A.L.E: Arcade Learning Environment (version 0.10.2+c9d4b19)\n",
      "[Powered by Stella]\n",
      "A.L.E: Arcade Learning Environment (version 0.10.2+c9d4b19)\n",
      "[Powered by Stella]\n",
      "A.L.E: Arcade Learning Environment (version 0.10.2+c9d4b19)\n",
      "[Powered by Stella]\n",
      "A.L.E: Arcade Learning Environment (version 0.10.2+c9d4b19)\n",
      "[Powered by Stella]\n",
      "A.L.E: Arcade Learning Environment (version 0.10.2+c9d4b19)\n",
      "[Powered by Stella]\n",
      "A.L.E: Arcade Learning Environment (version 0.10.2+c9d4b19)\n",
      "[Powered by Stella]\n",
      "A.L.E: Arcade Learning Environment (version 0.10.2+c9d4b19)\n",
      "[Powered by Stella]\n",
      "A.L.E: Arcade Learning Environment (version 0.10.2+c9d4b19)\n",
      "[Powered by Stella]\n",
      "A.L.E: Arcade Learning Environment (version 0.10.2+c9d4b19)\n",
      "[Powered by Stella]\n",
      "A.L.E: Arcade Learning Environment (version 0.10.2+c9d4b19)\n",
      "[Powered by Stella]\n",
      "A.L.E: Arcade Learning Environment (version 0.10.2+c9d4b19)\n",
      "[Powered by Stella]\n",
      "A.L.E: Arcade Learning Environment (version 0.10.2+c9d4b19)\n",
      "[Powered by Stella]\n",
      "A.L.E: Arcade Learning Environment (version 0.10.2+c9d4b19)\n",
      "[Powered by Stella]\n",
      "A.L.E: Arcade Learning Environment (version 0.10.2+c9d4b19)\n",
      "[Powered by Stella]\n",
      "A.L.E: Arcade Learning Environment (version 0.10.2+c9d4b19)\n",
      "[Powered by Stella]\n",
      "A.L.E: Arcade Learning Environment (version 0.10.2+c9d4b19)\n",
      "[Powered by Stella]\n",
      "A.L.E: Arcade Learning Environment (version 0.10.2+c9d4b19)\n",
      "[Powered by Stella]\n",
      "A.L.E: Arcade Learning Environment (version 0.10.2+c9d4b19)\n",
      "[Powered by Stella]\n",
      "A.L.E: Arcade Learning Environment (version 0.10.2+c9d4b19)\n",
      "[Powered by Stella]\n",
      "A.L.E: Arcade Learning Environment (version 0.10.2+c9d4b19)\n",
      "[Powered by Stella]\n",
      "A.L.E: Arcade Learning Environment (version 0.10.2+c9d4b19)\n",
      "[Powered by Stella]\n",
      "A.L.E: Arcade Learning Environment (version 0.10.2+c9d4b19)\n",
      "[Powered by Stella]\n",
      "A.L.E: Arcade Learning Environment (version 0.10.2+c9d4b19)\n",
      "[Powered by Stella]\n",
      "                                                        \r"
     ]
    },
    {
     "data": {
      "image/gif": "[encoded data removed]",
      "text/plain": [
       "<IPython.core.display.Image object>"
      ]
     },
     "execution_count": 5,
     "metadata": {},
     "output_type": "execute_result"
    }
   ],
   "source": [
    "metric_writer = MemoryWriter()\n",
    "eval_loop = GymnasiumLoop(\n",
    "    env,\n",
    "    agent,\n",
    "    num_envs,\n",
    "    loop_key,\n",
    "    actor_only=True,\n",
    "    observe_cycle=utils.render_atari_cycle,\n",
    "    metric_writer=metric_writer,\n",
    "    actor_devices=actor_devices,\n",
    "    learner_devices=learner_devices,\n",
    ")\n",
    "loop_state = eval_loop.run(loop_state, 1, 2*steps_per_cycle)\n",
    "video_buf = io.BytesIO()\n",
    "video_array = next(iter(metric_writer.videos.values()))['video']\n",
    "encode_video_to_gif(video_array, video_buf)\n",
    "Image(video_buf.getvalue())"
   ]
  },
  {
   "cell_type": "code",
   "execution_count": 6,
   "metadata": {},
   "outputs": [],
   "source": [
    "eval_loop.close()"
   ]
  },
  {
   "cell_type": "markdown",
   "metadata": {},
   "source": [
    "### train"
   ]
  },
  {
   "cell_type": "code",
   "execution_count": 5,
   "metadata": {},
   "outputs": [
    {
     "name": "stderr",
     "output_type": "stream",
     "text": [
      "A.L.E: Arcade Learning Environment (version 0.10.2+c9d4b19)\n",
      "[Powered by Stella]\n",
      "A.L.E: Arcade Learning Environment (version 0.10.2+c9d4b19)\n",
      "[Powered by Stella]\n",
      "A.L.E: Arcade Learning Environment (version 0.10.2+c9d4b19)\n",
      "[Powered by Stella]\n",
      "A.L.E: Arcade Learning Environment (version 0.10.2+c9d4b19)\n",
      "[Powered by Stella]\n",
      "A.L.E: Arcade Learning Environment (version 0.10.2+c9d4b19)\n",
      "[Powered by Stella]\n",
      "A.L.E: Arcade Learning Environment (version 0.10.2+c9d4b19)\n",
      "[Powered by Stella]\n",
      "A.L.E: Arcade Learning Environment (version 0.10.2+c9d4b19)\n",
      "[Powered by Stella]\n",
      "A.L.E: Arcade Learning Environment (version 0.10.2+c9d4b19)\n",
      "[Powered by Stella]\n",
      "A.L.E: Arcade Learning Environment (version 0.10.2+c9d4b19)\n",
      "[Powered by Stella]\n",
      "A.L.E: Arcade Learning Environment (version 0.10.2+c9d4b19)\n",
      "[Powered by Stella]\n",
      "A.L.E: Arcade Learning Environment (version 0.10.2+c9d4b19)\n",
      "[Powered by Stella]\n",
      "A.L.E: Arcade Learning Environment (version 0.10.2+c9d4b19)\n",
      "[Powered by Stella]\n",
      "A.L.E: Arcade Learning Environment (version 0.10.2+c9d4b19)\n",
      "[Powered by Stella]\n",
      "A.L.E: Arcade Learning Environment (version 0.10.2+c9d4b19)\n",
      "[Powered by Stella]\n",
      "A.L.E: Arcade Learning Environment (version 0.10.2+c9d4b19)\n",
      "[Powered by Stella]\n",
      "A.L.E: Arcade Learning Environment (version 0.10.2+c9d4b19)\n",
      "[Powered by Stella]\n",
      "A.L.E: Arcade Learning Environment (version 0.10.2+c9d4b19)\n",
      "[Powered by Stella]\n",
      "A.L.E: Arcade Learning Environment (version 0.10.2+c9d4b19)\n",
      "[Powered by Stella]\n",
      "A.L.E: Arcade Learning Environment (version 0.10.2+c9d4b19)\n",
      "[Powered by Stella]\n",
      "A.L.E: Arcade Learning Environment (version 0.10.2+c9d4b19)\n",
      "[Powered by Stella]\n",
      "A.L.E: Arcade Learning Environment (version 0.10.2+c9d4b19)\n",
      "[Powered by Stella]\n",
      "A.L.E: Arcade Learning Environment (version 0.10.2+c9d4b19)\n",
      "[Powered by Stella]\n",
      "A.L.E: Arcade Learning Environment (version 0.10.2+c9d4b19)\n",
      "[Powered by Stella]\n",
      "A.L.E: Arcade Learning Environment (version 0.10.2+c9d4b19)\n",
      "[Powered by Stella]\n",
      "A.L.E: Arcade Learning Environment (version 0.10.2+c9d4b19)\n",
      "[Powered by Stella]\n",
      "A.L.E: Arcade Learning Environment (version 0.10.2+c9d4b19)\n",
      "[Powered by Stella]\n",
      "A.L.E: Arcade Learning Environment (version 0.10.2+c9d4b19)\n",
      "[Powered by Stella]\n",
      "A.L.E: Arcade Learning Environment (version 0.10.2+c9d4b19)\n",
      "[Powered by Stella]\n",
      "A.L.E: Arcade Learning Environment (version 0.10.2+c9d4b19)\n",
      "[Powered by Stella]\n",
      "A.L.E: Arcade Learning Environment (version 0.10.2+c9d4b19)\n",
      "[Powered by Stella]\n",
      "A.L.E: Arcade Learning Environment (version 0.10.2+c9d4b19)\n",
      "[Powered by Stella]\n",
      "A.L.E: Arcade Learning Environment (version 0.10.2+c9d4b19)\n",
      "[Powered by Stella]\n",
      "A.L.E: Arcade Learning Environment (version 0.10.2+c9d4b19)\n",
      "[Powered by Stella]\n",
      "A.L.E: Arcade Learning Environment (version 0.10.2+c9d4b19)\n",
      "[Powered by Stella]\n",
      "A.L.E: Arcade Learning Environment (version 0.10.2+c9d4b19)\n",
      "[Powered by Stella]\n",
      "A.L.E: Arcade Learning Environment (version 0.10.2+c9d4b19)\n",
      "[Powered by Stella]\n",
      "A.L.E: Arcade Learning Environment (version 0.10.2+c9d4b19)\n",
      "[Powered by Stella]\n",
      "A.L.E: Arcade Learning Environment (version 0.10.2+c9d4b19)\n",
      "[Powered by Stella]\n",
      "A.L.E: Arcade Learning Environment (version 0.10.2+c9d4b19)\n",
      "[Powered by Stella]\n",
      "A.L.E: Arcade Learning Environment (version 0.10.2+c9d4b19)\n",
      "[Powered by Stella]\n",
      "A.L.E: Arcade Learning Environment (version 0.10.2+c9d4b19)\n",
      "[Powered by Stella]\n",
      "A.L.E: Arcade Learning Environment (version 0.10.2+c9d4b19)\n",
      "[Powered by Stella]\n",
      "A.L.E: Arcade Learning Environment (version 0.10.2+c9d4b19)\n",
      "[Powered by Stella]\n",
      "A.L.E: Arcade Learning Environment (version 0.10.2+c9d4b19)\n",
      "[Powered by Stella]\n",
      "A.L.E: Arcade Learning Environment (version 0.10.2+c9d4b19)\n",
      "[Powered by Stella]\n",
      "A.L.E: Arcade Learning Environment (version 0.10.2+c9d4b19)\n",
      "[Powered by Stella]\n",
      "A.L.E: Arcade Learning Environment (version 0.10.2+c9d4b19)\n",
      "[Powered by Stella]\n",
      "A.L.E: Arcade Learning Environment (version 0.10.2+c9d4b19)\n",
      "[Powered by Stella]\n",
      "A.L.E: Arcade Learning Environment (version 0.10.2+c9d4b19)\n",
      "[Powered by Stella]\n",
      "A.L.E: Arcade Learning Environment (version 0.10.2+c9d4b19)\n",
      "[Powered by Stella]\n",
      "A.L.E: Arcade Learning Environment (version 0.10.2+c9d4b19)\n",
      "[Powered by Stella]\n",
      "A.L.E: Arcade Learning Environment (version 0.10.2+c9d4b19)\n",
      "[Powered by Stella]\n",
      "A.L.E: Arcade Learning Environment (version 0.10.2+c9d4b19)\n",
      "[Powered by Stella]\n",
      "A.L.E: Arcade Learning Environment (version 0.10.2+c9d4b19)\n",
      "[Powered by Stella]\n",
      "A.L.E: Arcade Learning Environment (version 0.10.2+c9d4b19)\n",
      "[Powered by Stella]\n",
      "A.L.E: Arcade Learning Environment (version 0.10.2+c9d4b19)\n",
      "[Powered by Stella]\n",
      "A.L.E: Arcade Learning Environment (version 0.10.2+c9d4b19)\n",
      "[Powered by Stella]\n",
      "A.L.E: Arcade Learning Environment (version 0.10.2+c9d4b19)\n",
      "[Powered by Stella]\n",
      "A.L.E: Arcade Learning Environment (version 0.10.2+c9d4b19)\n",
      "[Powered by Stella]\n",
      "A.L.E: Arcade Learning Environment (version 0.10.2+c9d4b19)\n",
      "[Powered by Stella]\n",
      "A.L.E: Arcade Learning Environment (version 0.10.2+c9d4b19)\n",
      "[Powered by Stella]\n",
      "A.L.E: Arcade Learning Environment (version 0.10.2+c9d4b19)\n",
      "[Powered by Stella]\n",
      "A.L.E: Arcade Learning Environment (version 0.10.2+c9d4b19)\n",
      "[Powered by Stella]\n",
      "A.L.E: Arcade Learning Environment (version 0.10.2+c9d4b19)\n",
      "[Powered by Stella]\n",
      "                                                    \r"
     ]
    },
    {
     "ename": "ValueError",
     "evalue": "vmap was requested to map its argument along axis 0, which implies that its rank should be at least 1, but is only 0 (its shape is ())",
     "output_type": "error",
     "traceback": [
      "\u001b[0;31m---------------------------------------------------------------------------\u001b[0m",
      "\u001b[0;31mIndexError\u001b[0m                                Traceback (most recent call last)",
      "File \u001b[0;32m~/src/garymm/earl/.venv/lib/python3.12/site-packages/jax/_src/api.py:1026\u001b[0m, in \u001b[0;36m_mapped_axis_size.<locals>._get_axis_size\u001b[0;34m(name, shape, axis)\u001b[0m\n\u001b[1;32m   1025\u001b[0m \u001b[38;5;28;01mtry\u001b[39;00m:\n\u001b[0;32m-> 1026\u001b[0m   \u001b[38;5;28;01mreturn\u001b[39;00m \u001b[43mshape\u001b[49m\u001b[43m[\u001b[49m\u001b[43maxis\u001b[49m\u001b[43m]\u001b[49m\n\u001b[1;32m   1027\u001b[0m \u001b[38;5;28;01mexcept\u001b[39;00m (\u001b[38;5;167;01mIndexError\u001b[39;00m, \u001b[38;5;167;01mTypeError\u001b[39;00m) \u001b[38;5;28;01mas\u001b[39;00m e:\n",
      "\u001b[0;31mIndexError\u001b[0m: tuple index out of range",
      "\nThe above exception was the direct cause of the following exception:\n",
      "\u001b[0;31mValueError\u001b[0m                                Traceback (most recent call last)",
      "Cell \u001b[0;32mIn[5], line 12\u001b[0m\n\u001b[1;32m      2\u001b[0m train_loop \u001b[38;5;241m=\u001b[39m GymnasiumLoop(\n\u001b[1;32m      3\u001b[0m     env,\n\u001b[1;32m      4\u001b[0m     agent,\n\u001b[0;32m   (...)\u001b[0m\n\u001b[1;32m      9\u001b[0m     learner_devices\u001b[38;5;241m=\u001b[39mlearner_devices,\n\u001b[1;32m     10\u001b[0m )\n\u001b[1;32m     11\u001b[0m training_start_time \u001b[38;5;241m=\u001b[39m time\u001b[38;5;241m.\u001b[39mmonotonic()\n\u001b[0;32m---> 12\u001b[0m loop_state \u001b[38;5;241m=\u001b[39m \u001b[43mtrain_loop\u001b[49m\u001b[38;5;241;43m.\u001b[39;49m\u001b[43mrun\u001b[49m\u001b[43m(\u001b[49m\u001b[43mloop_state\u001b[49m\u001b[43m,\u001b[49m\u001b[43m \u001b[49m\u001b[43mnum_cycles\u001b[49m\u001b[43m,\u001b[49m\u001b[43m \u001b[49m\u001b[43msteps_per_cycle\u001b[49m\u001b[43m)\u001b[49m\n",
      "File \u001b[0;32m~/src/garymm/earl/earl/environment_loop/gymnasium_loop.py:477\u001b[0m, in \u001b[0;36mGymnasiumLoop.run\u001b[0;34m(***failed resolving arguments***)\u001b[0m\n\u001b[1;32m    475\u001b[0m \u001b[38;5;28;01mwhile\u001b[39;00m actor_experiences:\n\u001b[1;32m    476\u001b[0m   actor_experience \u001b[38;5;241m=\u001b[39m actor_experiences\u001b[38;5;241m.\u001b[39mpop()\n\u001b[0;32m--> 477\u001b[0m   experience_state \u001b[38;5;241m=\u001b[39m \u001b[38;5;28;43mself\u001b[39;49m\u001b[38;5;241;43m.\u001b[39;49m\u001b[43m_agent_update_experience\u001b[49m\u001b[43m(\u001b[49m\n\u001b[1;32m    478\u001b[0m \u001b[43m    \u001b[49m\u001b[43magent_state\u001b[49m\u001b[38;5;241;43m.\u001b[39;49m\u001b[43mexperience\u001b[49m\u001b[43m,\u001b[49m\n\u001b[1;32m    479\u001b[0m \u001b[43m    \u001b[49m\u001b[43mactor_experience\u001b[49m\u001b[38;5;241;43m.\u001b[39;49m\u001b[43mactor_state_pre\u001b[49m\u001b[43m,\u001b[49m\n\u001b[1;32m    480\u001b[0m \u001b[43m    \u001b[49m\u001b[43mactor_experience\u001b[49m\u001b[38;5;241;43m.\u001b[39;49m\u001b[43mcycle_result\u001b[49m\u001b[38;5;241;43m.\u001b[39;49m\u001b[43magent_state\u001b[49m\u001b[43m,\u001b[49m\n\u001b[1;32m    481\u001b[0m \u001b[43m    \u001b[49m\u001b[43mactor_experience\u001b[49m\u001b[38;5;241;43m.\u001b[39;49m\u001b[43mcycle_result\u001b[49m\u001b[38;5;241;43m.\u001b[39;49m\u001b[43mtrajectory\u001b[49m\u001b[43m,\u001b[49m\n\u001b[1;32m    482\u001b[0m \u001b[43m  \u001b[49m\u001b[43m)\u001b[49m\n\u001b[1;32m    483\u001b[0m   agent_state \u001b[38;5;241m=\u001b[39m dataclasses\u001b[38;5;241m.\u001b[39mreplace(agent_state, experience\u001b[38;5;241m=\u001b[39mexperience_state)\n\u001b[1;32m    484\u001b[0m \u001b[38;5;28;01mdel\u001b[39;00m actor_experiences\n",
      "File \u001b[0;32m~/src/garymm/earl/.venv/lib/python3.12/site-packages/equinox/_vmap_pmap.py:503\u001b[0m, in \u001b[0;36m_PmapWrapper.__call__\u001b[0;34m(self, *args, **kwargs)\u001b[0m\n\u001b[1;32m    502\u001b[0m \u001b[38;5;28;01mdef\u001b[39;00m\u001b[38;5;250m \u001b[39m\u001b[38;5;21m__call__\u001b[39m(\u001b[38;5;28mself\u001b[39m, \u001b[38;5;241m/\u001b[39m, \u001b[38;5;241m*\u001b[39margs, \u001b[38;5;241m*\u001b[39m\u001b[38;5;241m*\u001b[39mkwargs):\n\u001b[0;32m--> 503\u001b[0m     \u001b[38;5;28;01mreturn\u001b[39;00m \u001b[38;5;28;43mself\u001b[39;49m\u001b[38;5;241;43m.\u001b[39;49m\u001b[43m_call\u001b[49m\u001b[43m(\u001b[49m\u001b[38;5;28;43;01mFalse\u001b[39;49;00m\u001b[43m,\u001b[49m\u001b[43m \u001b[49m\u001b[43margs\u001b[49m\u001b[43m,\u001b[49m\u001b[43m \u001b[49m\u001b[43mkwargs\u001b[49m\u001b[43m)\u001b[49m\n",
      "    \u001b[0;31m[... skipping hidden 1 frame]\u001b[0m\n",
      "File \u001b[0;32m~/src/garymm/earl/.venv/lib/python3.12/site-packages/equinox/_vmap_pmap.py:474\u001b[0m, in \u001b[0;36m_PmapWrapper._call\u001b[0;34m(***failed resolving arguments***)\u001b[0m\n\u001b[1;32m    469\u001b[0m dynamic, static \u001b[38;5;241m=\u001b[39m partition(\n\u001b[1;32m    470\u001b[0m     (\u001b[38;5;28mself\u001b[39m\u001b[38;5;241m.\u001b[39m_fun, args, maybe_dummy, \u001b[38;5;28mself\u001b[39m\u001b[38;5;241m.\u001b[39m_out_axes), is_array\n\u001b[1;32m    471\u001b[0m )\n\u001b[1;32m    472\u001b[0m struct \u001b[38;5;241m=\u001b[39m jtu\u001b[38;5;241m.\u001b[39mtree_map(\u001b[38;5;28;01mlambda\u001b[39;00m x: jax\u001b[38;5;241m.\u001b[39mShapeDtypeStruct(x\u001b[38;5;241m.\u001b[39mshape, x\u001b[38;5;241m.\u001b[39mdtype), dynamic)\n\u001b[0;32m--> 474\u001b[0m cached \u001b[38;5;241m=\u001b[39m \u001b[43m_filter_pmap_cache\u001b[49m\u001b[43m(\u001b[49m\n\u001b[1;32m    475\u001b[0m \u001b[43m    \u001b[49m\u001b[38;5;28;43mself\u001b[39;49m\u001b[38;5;241;43m.\u001b[39;49m\u001b[43m_fun\u001b[49m\u001b[43m,\u001b[49m\n\u001b[1;32m    476\u001b[0m \u001b[43m    \u001b[49m\u001b[43mstatic\u001b[49m\u001b[43m,\u001b[49m\n\u001b[1;32m    477\u001b[0m \u001b[43m    \u001b[49m\u001b[43mstruct\u001b[49m\u001b[43m,\u001b[49m\n\u001b[1;32m    478\u001b[0m \u001b[43m    \u001b[49m\u001b[43min_axes\u001b[49m\u001b[43m,\u001b[49m\n\u001b[1;32m    479\u001b[0m \u001b[43m    \u001b[49m\u001b[38;5;28;43mself\u001b[39;49m\u001b[38;5;241;43m.\u001b[39;49m\u001b[43m_axis_name\u001b[49m\u001b[43m,\u001b[49m\n\u001b[1;32m    480\u001b[0m \u001b[43m    \u001b[49m\u001b[38;5;28;43mself\u001b[39;49m\u001b[38;5;241;43m.\u001b[39;49m\u001b[43m_axis_size\u001b[49m\u001b[43m,\u001b[49m\n\u001b[1;32m    481\u001b[0m \u001b[43m    \u001b[49m\u001b[38;5;28;43mself\u001b[39;49m\u001b[38;5;241;43m.\u001b[39;49m\u001b[43m_pmapkwargs\u001b[49m\u001b[43m,\u001b[49m\n\u001b[1;32m    482\u001b[0m \u001b[43m\u001b[49m\u001b[43m)\u001b[49m\n\u001b[1;32m    484\u001b[0m \u001b[38;5;28;01mif\u001b[39;00m is_lower:\n\u001b[1;32m    485\u001b[0m     \u001b[38;5;28;01mreturn\u001b[39;00m Lowered(\n\u001b[1;32m    486\u001b[0m         cached\u001b[38;5;241m.\u001b[39mlower(dynamic),\n\u001b[1;32m    487\u001b[0m         (\u001b[38;5;28mself\u001b[39m\u001b[38;5;241m.\u001b[39m_fun, \u001b[38;5;28mself\u001b[39m\u001b[38;5;241m.\u001b[39m_out_axes, \u001b[38;5;28mself\u001b[39m\u001b[38;5;241m.\u001b[39m_axis_size),\n\u001b[1;32m    488\u001b[0m         _preprocess,  \u001b[38;5;66;03m# pyright: ignore\u001b[39;00m\n\u001b[1;32m    489\u001b[0m         _postprocess,  \u001b[38;5;66;03m# pyright: ignore\u001b[39;00m\n\u001b[1;32m    490\u001b[0m     )\n",
      "File \u001b[0;32m~/src/garymm/earl/.venv/lib/python3.12/site-packages/equinox/_compile_utils.py:79\u001b[0m, in \u001b[0;36mcompile_cache.<locals>.wrapped_cacheable_fn\u001b[0;34m(user_fn, *args, **kwargs)\u001b[0m\n\u001b[1;32m     77\u001b[0m \u001b[38;5;28;01mexcept\u001b[39;00m \u001b[38;5;167;01mKeyError\u001b[39;00m:\n\u001b[1;32m     78\u001b[0m     cached_fn \u001b[38;5;241m=\u001b[39m cache[cache_key] \u001b[38;5;241m=\u001b[39m ft\u001b[38;5;241m.\u001b[39mlru_cache(maxsize\u001b[38;5;241m=\u001b[39m\u001b[38;5;28;01mNone\u001b[39;00m)(cached_fn_impl)\n\u001b[0;32m---> 79\u001b[0m \u001b[38;5;28;01mreturn\u001b[39;00m \u001b[43mcached_fn\u001b[49m\u001b[43m(\u001b[49m\u001b[43mleaves\u001b[49m\u001b[43m,\u001b[49m\u001b[43m \u001b[49m\u001b[43mtreedef\u001b[49m\u001b[43m)\u001b[49m\n",
      "File \u001b[0;32m~/src/garymm/earl/.venv/lib/python3.12/site-packages/equinox/_compile_utils.py:61\u001b[0m, in \u001b[0;36mcompile_cache.<locals>.cached_fn_impl\u001b[0;34m(leaves, treedef)\u001b[0m\n\u001b[1;32m     59\u001b[0m \u001b[38;5;28;01mdef\u001b[39;00m\u001b[38;5;250m \u001b[39m\u001b[38;5;21mcached_fn_impl\u001b[39m(leaves, treedef):\n\u001b[1;32m     60\u001b[0m     user_fn_names, args, kwargs \u001b[38;5;241m=\u001b[39m jtu\u001b[38;5;241m.\u001b[39mtree_unflatten(treedef, leaves)\n\u001b[0;32m---> 61\u001b[0m     \u001b[38;5;28;01mreturn\u001b[39;00m \u001b[43mcacheable_fn\u001b[49m\u001b[43m(\u001b[49m\u001b[43muser_fn_names\u001b[49m\u001b[43m,\u001b[49m\u001b[43m \u001b[49m\u001b[38;5;241;43m*\u001b[39;49m\u001b[43margs\u001b[49m\u001b[43m,\u001b[49m\u001b[43m \u001b[49m\u001b[38;5;241;43m*\u001b[39;49m\u001b[38;5;241;43m*\u001b[39;49m\u001b[43mkwargs\u001b[49m\u001b[43m)\u001b[49m\n",
      "File \u001b[0;32m~/src/garymm/earl/.venv/lib/python3.12/site-packages/equinox/_vmap_pmap.py:375\u001b[0m, in \u001b[0;36m_filter_pmap_cache\u001b[0;34m(fun_names, static, struct, in_axes, axis_name, axis_size, pmapkwargs)\u001b[0m\n\u001b[1;32m    370\u001b[0m     \u001b[38;5;28;01mreturn\u001b[39;00m \u001b[38;5;28mfilter\u001b[39m(out, is_array_like)\n\u001b[1;32m    372\u001b[0m fun_abstract \u001b[38;5;241m=\u001b[39m jax\u001b[38;5;241m.\u001b[39mvmap(\n\u001b[1;32m    373\u001b[0m     fun_abstract, in_axes\u001b[38;5;241m=\u001b[39m(in_axes,), axis_name\u001b[38;5;241m=\u001b[39maxis_name, axis_size\u001b[38;5;241m=\u001b[39maxis_size\n\u001b[1;32m    374\u001b[0m )\n\u001b[0;32m--> 375\u001b[0m struct_out \u001b[38;5;241m=\u001b[39m \u001b[43mjax\u001b[49m\u001b[38;5;241;43m.\u001b[39;49m\u001b[43meval_shape\u001b[49m\u001b[43m(\u001b[49m\u001b[43mfun_abstract\u001b[49m\u001b[43m,\u001b[49m\u001b[43m \u001b[49m\u001b[43mstruct\u001b[49m\u001b[43m)\u001b[49m\n\u001b[1;32m    376\u001b[0m max_out_size \u001b[38;5;241m=\u001b[39m jtu\u001b[38;5;241m.\u001b[39mtree_reduce(\u001b[38;5;28;01mlambda\u001b[39;00m x, y: \u001b[38;5;28mmax\u001b[39m(x, y\u001b[38;5;241m.\u001b[39mndim), struct_out, \u001b[38;5;241m0\u001b[39m)\n\u001b[1;32m    377\u001b[0m \u001b[38;5;28;01mdel\u001b[39;00m fun_abstract, struct, struct_out\n",
      "    \u001b[0;31m[... skipping hidden 19 frame]\u001b[0m\n",
      "File \u001b[0;32m~/src/garymm/earl/.venv/lib/python3.12/site-packages/jax/_src/api.py:1030\u001b[0m, in \u001b[0;36m_mapped_axis_size.<locals>._get_axis_size\u001b[0;34m(name, shape, axis)\u001b[0m\n\u001b[1;32m   1028\u001b[0m min_rank \u001b[38;5;241m=\u001b[39m axis \u001b[38;5;241m+\u001b[39m \u001b[38;5;241m1\u001b[39m \u001b[38;5;28;01mif\u001b[39;00m axis \u001b[38;5;241m>\u001b[39m\u001b[38;5;241m=\u001b[39m \u001b[38;5;241m0\u001b[39m \u001b[38;5;28;01melse\u001b[39;00m \u001b[38;5;241m-\u001b[39maxis\n\u001b[1;32m   1029\u001b[0m \u001b[38;5;66;03m# TODO(mattjj): better error message here\u001b[39;00m\n\u001b[0;32m-> 1030\u001b[0m \u001b[38;5;28;01mraise\u001b[39;00m \u001b[38;5;167;01mValueError\u001b[39;00m(\n\u001b[1;32m   1031\u001b[0m     \u001b[38;5;124mf\u001b[39m\u001b[38;5;124m\"\u001b[39m\u001b[38;5;132;01m{\u001b[39;00mname\u001b[38;5;132;01m}\u001b[39;00m\u001b[38;5;124m was requested to map its argument along axis \u001b[39m\u001b[38;5;132;01m{\u001b[39;00maxis\u001b[38;5;132;01m}\u001b[39;00m\u001b[38;5;124m, \u001b[39m\u001b[38;5;124m\"\u001b[39m\n\u001b[1;32m   1032\u001b[0m     \u001b[38;5;124mf\u001b[39m\u001b[38;5;124m\"\u001b[39m\u001b[38;5;124mwhich implies that its rank should be at least \u001b[39m\u001b[38;5;132;01m{\u001b[39;00mmin_rank\u001b[38;5;132;01m}\u001b[39;00m\u001b[38;5;124m, \u001b[39m\u001b[38;5;124m\"\u001b[39m\n\u001b[1;32m   1033\u001b[0m     \u001b[38;5;124mf\u001b[39m\u001b[38;5;124m\"\u001b[39m\u001b[38;5;124mbut is only \u001b[39m\u001b[38;5;132;01m{\u001b[39;00m\u001b[38;5;28mlen\u001b[39m(shape)\u001b[38;5;132;01m}\u001b[39;00m\u001b[38;5;124m (its shape is \u001b[39m\u001b[38;5;132;01m{\u001b[39;00mshape\u001b[38;5;132;01m}\u001b[39;00m\u001b[38;5;124m)\u001b[39m\u001b[38;5;124m\"\u001b[39m) \u001b[38;5;28;01mfrom\u001b[39;00m\u001b[38;5;250m \u001b[39m\u001b[38;5;21;01me\u001b[39;00m\n",
      "\u001b[0;31mValueError\u001b[0m: vmap was requested to map its argument along axis 0, which implies that its rank should be at least 1, but is only 0 (its shape is ())"
     ]
    }
   ],
   "source": [
    "metric_writer = AsyncWriter(TensorboardWriter(logdir=\"logs/Asterix\"))\n",
    "train_loop = GymnasiumLoop(\n",
    "    env,\n",
    "    agent,\n",
    "    num_envs,\n",
    "    loop_key,\n",
    "    metric_writer=metric_writer,\n",
    "    actor_devices=actor_devices,\n",
    "    learner_devices=learner_devices,\n",
    ")\n",
    "training_start_time = time.monotonic()\n",
    "loop_state = train_loop.run(loop_state, num_cycles, steps_per_cycle)\n"
   ]
  }
 ],
 "metadata": {
  "kernelspec": {
   "display_name": ".venv",
   "language": "python",
   "name": "python3"
  },
  "language_info": {
   "codemirror_mode": {
    "name": "ipython",
    "version": 3
   },
   "file_extension": ".py",
   "mimetype": "text/x-python",
   "name": "python",
   "nbconvert_exporter": "python",
   "pygments_lexer": "ipython3",
   "version": "3.12.8"
  }
 },
 "nbformat": 4,
 "nbformat_minor": 2
}
