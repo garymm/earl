{
 "cells": [
  {
   "cell_type": "markdown",
   "metadata": {},
   "source": [
    "# Earl R2D2 demo\n",
    "\n",
    "This notebook will train an [R2D2](https://openreview.net/forum?id=r1lyTjAqYX) agent on two very similar environments using the two different environment loops which implement the two [Podracer architectures](https://arxiv.org/abs/2104.06272).\n",
    "\n",
    "We will train an agent on the Atari game \"Asterix\"."
   ]
  },
  {
   "cell_type": "code",
   "execution_count": 24,
   "metadata": {},
   "outputs": [
    {
     "name": "stdout",
     "output_type": "stream",
     "text": [
      "The autoreload extension is already loaded. To reload it, use:\n",
      "  %reload_ext autoreload\n"
     ]
    }
   ],
   "source": [
    "%load_ext autoreload\n",
    "%autoreload 1\n",
    "%aimport earl.agents.r2d2.networks\n",
    "%aimport earl.agents.r2d2.r2d2\n",
    "%aimport earl.agents.r2d2.utils\n",
    "%aimport earl.core"
   ]
  },
  {
   "cell_type": "code",
   "execution_count": 25,
   "metadata": {},
   "outputs": [],
   "source": [
    "import io\n",
    "import math\n",
    "import time\n",
    "\n",
    "import ale_py\n",
    "import gymnasium\n",
    "import jax\n",
    "import jax.numpy as jnp\n",
    "from IPython.display import Image\n",
    "from jax_loop_utils.metric_writers._audio_video import encode_video_to_gif\n",
    "from jax_loop_utils.metric_writers.async_writer import AsyncWriter\n",
    "from jax_loop_utils.metric_writers.memory_writer import MemoryWriter\n",
    "from jax_loop_utils.metric_writers.torch import TensorboardWriter\n",
    "\n",
    "import earl.agents.r2d2.networks as r2d2_networks\n",
    "from earl.agents.r2d2 import utils\n",
    "from earl.agents.r2d2.r2d2 import R2D2, R2D2Config\n",
    "from earl.core import env_info_from_gymnax\n",
    "from earl.environment_loop.gymnax_loop import GymnaxLoop\n",
    "\n",
    "gymnasium.register_envs(ale_py)  # suppress unused import warning"
   ]
  },
  {
   "cell_type": "markdown",
   "metadata": {},
   "source": [
    "## Gymnax (Anakin)  \n",
    "\n",
    "GymnaxLoop is for Anakin-style training, meaning the environment is jax.jit-compatible and runs on the same device as the learning.\n",
    "\n",
    "We will use an implementation of Asterix in JAX that has simplified graphics.\n"
   ]
  },
  {
   "cell_type": "markdown",
   "metadata": {},
   "source": [
    "### init environment"
   ]
  },
  {
   "cell_type": "code",
   "execution_count": 26,
   "metadata": {},
   "outputs": [],
   "source": [
    "import gymnax.environments.spaces\n",
    "from gymnax.environments.minatar.asterix import MinAsterix\n",
    "\n",
    "env = MinAsterix()\n",
    "num_envs = 512\n",
    "env_params = env.default_params\n",
    "env_info = env_info_from_gymnax(env, env_params, num_envs)\n",
    "action_space = env.action_space(env_params)\n",
    "assert isinstance(action_space, gymnax.environments.spaces.Discrete), action_space\n",
    "num_actions = int(action_space.n)\n",
    "observation_space = env.observation_space(env_params)\n",
    "assert isinstance(observation_space, gymnax.environments.spaces.Box), observation_space\n"
   ]
  },
  {
   "cell_type": "markdown",
   "metadata": {},
   "source": [
    "### init networks and agent"
   ]
  },
  {
   "cell_type": "code",
   "execution_count": 27,
   "metadata": {},
   "outputs": [
    {
     "name": "stdout",
     "output_type": "stream",
     "text": [
      "running on 2 gpu devices\n"
     ]
    }
   ],
   "source": [
    "hidden_size = 64\n",
    "key = jax.random.PRNGKey(0)\n",
    "networks_key, loop_key, agent_key = jax.random.split(key, 3)\n",
    "networks = r2d2_networks.make_networks_mlp(\n",
    "    num_actions=num_actions,\n",
    "    input_size=int(math.prod(observation_space.shape)),\n",
    "    dtype=jnp.float32,\n",
    "    hidden_size=hidden_size,\n",
    "    key=networks_key,\n",
    ")\n",
    "num_cycles = 3_500\n",
    "steps_per_cycle = 80\n",
    "devices = jax.local_devices()\n",
    "print(f\"running on {len(devices)} {devices[0].platform} devices\")\n",
    "config = R2D2Config(\n",
    "    epsilon_greedy_schedule_args=dict(\n",
    "      init_value=0.9, end_value=0.01, transition_steps=steps_per_cycle * 1_000\n",
    "    ),\n",
    "    num_envs_per_learner=num_envs,\n",
    "    replay_seq_length=steps_per_cycle,\n",
    "    buffer_capacity=steps_per_cycle * 10,\n",
    "    burn_in=40,\n",
    "    learning_rate_schedule_name=\"cosine_onecycle_schedule\",\n",
    "    learning_rate_schedule_args=dict(\n",
    "      transition_steps=steps_per_cycle * 2_500,\n",
    "      # NOTE: more devices effectively means a larger batch size, so we\n",
    "      # scale the learning rate up to train faster!\n",
    "      peak_value=5e-5 * len(devices),\n",
    "    ),\n",
    "    target_update_step_size=0.00,\n",
    "    target_update_period=500,\n",
    ")\n",
    "agent = R2D2(env_info, config)\n",
    "loop_state = agent.new_state(networks, agent_key)\n"
   ]
  },
  {
   "cell_type": "markdown",
   "metadata": {},
   "source": [
    "### run one cycle in actor_only mode to gather video\n",
    "\n",
    "run in `actor_only` and pass `observe_cycle` to render a video of initial performance"
   ]
  },
  {
   "cell_type": "code",
   "execution_count": 28,
   "metadata": {},
   "outputs": [
    {
     "name": "stderr",
     "output_type": "stream",
     "text": [
      "/home/user/src/garymm/earl/.venv/lib/python3.12/site-packages/jax/_src/ops/scatter.py:92: FutureWarning: scatter inputs have incompatible types: cannot safely cast value from dtype=int32 to dtype=bool with jax_numpy_dtype_promotion='standard'. In future JAX releases this will result in an error.\n",
      "  warnings.warn(\n",
      "cycles:   0%|          | 0/1 [00:00<?, ?cycle/s]/home/user/src/garymm/earl/.venv/lib/python3.12/site-packages/jax/_src/ops/scatter.py:92: FutureWarning: scatter inputs have incompatible types: cannot safely cast value from dtype=int32 to dtype=bool with jax_numpy_dtype_promotion='standard'. In future JAX releases this will result in an error.\n",
      "  warnings.warn(\n",
      "                                                        \r"
     ]
    },
    {
     "data": {
      "image/gif": "[encoded data removed]",
      "text/plain": [
       "<IPython.core.display.Image object>"
      ]
     },
     "execution_count": 28,
     "metadata": {},
     "output_type": "execute_result"
    }
   ],
   "source": [
    "metric_writer = MemoryWriter()\n",
    "eval_loop = GymnaxLoop(\n",
    "    env,\n",
    "    env_params,\n",
    "    agent,\n",
    "    num_envs,\n",
    "    loop_key,\n",
    "    actor_only=True,\n",
    "    observe_cycle=utils.render_minatar_cycle,\n",
    "    metric_writer=metric_writer,\n",
    "    devices=devices,\n",
    ")\n",
    "loop_state = eval_loop.run(loop_state, 1, 2*steps_per_cycle)\n",
    "video_buf = io.BytesIO()\n",
    "video_array = next(iter(metric_writer.videos.values()))['video']\n",
    "encode_video_to_gif(video_array, video_buf)\n",
    "Image(video_buf.getvalue())"
   ]
  },
  {
   "cell_type": "markdown",
   "metadata": {},
   "source": [
    "### train"
   ]
  },
  {
   "cell_type": "code",
   "execution_count": 29,
   "metadata": {},
   "outputs": [
    {
     "name": "stdout",
     "output_type": "stream",
     "text": [
      "The tensorboard extension is already loaded. To reload it, use:\n",
      "  %reload_ext tensorboard\n"
     ]
    },
    {
     "data": {
      "text/plain": [
       "Reusing TensorBoard on port 6006 (pid 2661613), started 17:41:05 ago. (Use '!kill 2661613' to kill it.)"
      ]
     },
     "metadata": {},
     "output_type": "display_data"
    },
    {
     "data": {
      "text/html": [
       "\n",
       "      <iframe id=\"tensorboard-frame-90c4b0ffc093c55b\" width=\"100%\" height=\"800\" frameborder=\"0\">\n",
       "      </iframe>\n",
       "      <script>\n",
       "        (function() {\n",
       "          const frame = document.getElementById(\"tensorboard-frame-90c4b0ffc093c55b\");\n",
       "          const url = new URL(\"http://localhost\");\n",
       "          const port = 6006;\n",
       "          if (port) {\n",
       "            url.port = port;\n",
       "          }\n",
       "          frame.src = url;\n",
       "        })();\n",
       "      </script>\n",
       "    "
      ],
      "text/plain": [
       "<IPython.core.display.HTML object>"
      ]
     },
     "metadata": {},
     "output_type": "display_data"
    }
   ],
   "source": [
    "%load_ext tensorboard\n",
    "%tensorboard --logdir logs\n"
   ]
  },
  {
   "cell_type": "code",
   "execution_count": null,
   "metadata": {},
   "outputs": [
    {
     "name": "stderr",
     "output_type": "stream",
     "text": [
      "cycles:   0%|          | 0/3500 [00:00<?, ?cycle/s]"
     ]
    },
    {
     "name": "stderr",
     "output_type": "stream",
     "text": [
      "cycles:  10%|▉         | 343/3500 [01:12<09:26,  5.57cycle/s] "
     ]
    }
   ],
   "source": [
    "metric_writer = AsyncWriter(TensorboardWriter(logdir=\"logs/MinAsterix\"))\n",
    "train_loop = GymnaxLoop(\n",
    "    env,\n",
    "    env_params,\n",
    "    agent,\n",
    "    num_envs,\n",
    "    loop_key,\n",
    "    metric_writer=metric_writer,\n",
    "    devices=devices,\n",
    ")\n",
    "training_start_time = time.monotonic()\n",
    "loop_state = train_loop.run(loop_state, num_cycles, steps_per_cycle)\n"
   ]
  },
  {
   "cell_type": "code",
   "execution_count": 22,
   "metadata": {},
   "outputs": [
    {
     "name": "stdout",
     "output_type": "stream",
     "text": [
      "Training took 916.90 seconds\n",
      "steps per second: 446723.21\n",
      "learner updates per second: 8725.06\n"
     ]
    }
   ],
   "source": [
    "elapsed_time = time.monotonic() - training_start_time\n",
    "print(f\"Training took {elapsed_time:.2f} seconds\")\n",
    "total_env_steps = steps_per_cycle * num_cycles * num_envs * len(devices)\n",
    "print(f\"steps per second: {total_env_steps / elapsed_time:.2f}\")\n",
    "total_learner_updates = (\n",
    "    steps_per_cycle * num_cycles * len(devices) * config.num_off_policy_optims_per_cycle)\n",
    "print(f\"learner updates per second: {total_learner_updates / elapsed_time :.2f}\")\n"
   ]
  },
  {
   "cell_type": "markdown",
   "metadata": {},
   "source": [
    "### run one cycle to gather video\n",
    "\n",
    "We can also write the video to tensorboard instead of in memory.\n",
    "\n",
    "Once the cell below runs, the video will show up in the Images tab of Tensorboard."
   ]
  },
  {
   "cell_type": "code",
   "execution_count": null,
   "metadata": {},
   "outputs": [
    {
     "name": "stderr",
     "output_type": "stream",
     "text": [
      "cycles:   0%|          | 0/1 [00:00<?, ?cycle/s]"
     ]
    },
    {
     "name": "stderr",
     "output_type": "stream",
     "text": [
      "                                                        \r"
     ]
    },
    {
     "data": {
      "image/gif": "[encoded data removed]",
      "text/plain": [
       "<IPython.core.display.Image object>"
      ]
     },
     "execution_count": 23,
     "metadata": {},
     "output_type": "execute_result"
    }
   ],
   "source": [
    "metric_writer = MemoryWriter()\n",
    "eval_loop = GymnaxLoop(\n",
    "    env,\n",
    "    env_params,\n",
    "    agent,\n",
    "    num_envs,\n",
    "    loop_key,\n",
    "    actor_only=True,\n",
    "    observe_cycle=utils.render_minatar_cycle,\n",
    "    metric_writer=metric_writer,\n",
    "    devices=devices,\n",
    ")\n",
    "loop_state = eval_loop.run(loop_state, 1, 2*steps_per_cycle)\n",
    "video_buf = io.BytesIO()\n",
    "video_array = next(iter(metric_writer.videos.values()))['video']\n",
    "encode_video_to_gif(video_array, video_buf)\n",
    "Image(video_buf.getvalue())"
   ]
  },
  {
   "cell_type": "markdown",
   "metadata": {},
   "source": [
    "## Gymnasium (Sebulba)  \n",
    "\n",
    "GymnaxLoop is for Sebulba-style training, meaning the environment is *not* jax.jit-compatible and we have separate actor and learner devices.\n",
    "\n",
    "We will train on the actual Atari game Asterix using the Arcade Learning Environment."
   ]
  },
  {
   "cell_type": "markdown",
   "metadata": {},
   "source": [
    "### init environment"
   ]
  },
  {
   "cell_type": "code",
   "execution_count": null,
   "metadata": {},
   "outputs": [],
   "source": [
    "env = gymnasium.make(\"Asterix-v4\")\n",
    "env = gymnasium.wrappers.AtariPreprocessing(env, noop_max=0)\n",
    "stack_size = 4\n",
    "env = gymnasium.wrappers.FrameStackObservation(env, stack_size=stack_size)\n",
    "assert isinstance(env.action_space, gymnasium.spaces.Discrete)\n",
    "num_actions = int(env.action_space.n)\n"
   ]
  },
  {
   "cell_type": "markdown",
   "metadata": {},
   "source": [
    "### init networks and agent"
   ]
  },
  {
   "cell_type": "code",
   "execution_count": null,
   "metadata": {},
   "outputs": [],
   "source": [
    "hidden_size = 512\n",
    "networks = r2d2_networks.make_networks_resnet(\n",
    "    num_actions=num_actions,\n",
    "    in_channels=stack_size,\n",
    "    hidden_size=hidden_size,\n",
    "    key=key,\n",
    ")\n",
    "num_cycles = 10_000\n",
    "steps_per_cycle = 80\n",
    "devices = jax.local_devices()\n",
    "if len(devices) > 1:\n",
    "    actor_devices = devices[:len(devices)//3]\n",
    "    learner_devices = devices[len(devices)//3:]\n",
    "else:\n",
    "    actor_devices = devices\n",
    "    learner_devices = devices\n",
    "print(f\"running on {len(actor_devices)} actor devices and {len(learner_devices)} learner devices\")\n",
    "config = R2D2Config(\n",
    "    epsilon_greedy_schedule_args=dict(\n",
    "      init_value=0.9, end_value=0.01, transition_steps=steps_per_cycle * 1_000\n",
    "    ),\n",
    "    num_envs_per_learner=num_envs,\n",
    "    replay_seq_length=steps_per_cycle,\n",
    "    buffer_capacity=steps_per_cycle * 10,\n",
    "    burn_in=40,\n",
    "    learning_rate_schedule_name=\"cosine_onecycle_schedule\",\n",
    "    learning_rate_schedule_args=dict(\n",
    "      transition_steps=steps_per_cycle * num_cycles // 2,\n",
    "      # NOTE: more devices effectively means a larger batch size, so we\n",
    "      # scale the learning rate up to train faster!\n",
    "      peak_value=5e-5 * len(devices),\n",
    "    ),\n",
    "    target_update_step_size=0.00,\n",
    "    target_update_period=500,\n",
    ")\n",
    "agent = R2D2(env_info, config)\n",
    "loop_state = agent.new_state(networks, agent_key)"
   ]
  }
 ],
 "metadata": {
  "kernelspec": {
   "display_name": ".venv",
   "language": "python",
   "name": "python3"
  },
  "language_info": {
   "codemirror_mode": {
    "name": "ipython",
    "version": 3
   },
   "file_extension": ".py",
   "mimetype": "text/x-python",
   "name": "python",
   "nbconvert_exporter": "python",
   "pygments_lexer": "ipython3",
   "version": "3.12.8"
  }
 },
 "nbformat": 4,
 "nbformat_minor": 2
}
