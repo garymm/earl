{
 "cells": [
  {
   "cell_type": "code",
   "execution_count": 5,
   "metadata": {},
   "outputs": [
    {
     "name": "stdout",
     "output_type": "stream",
     "text": [
      "The autoreload extension is already loaded. To reload it, use:\n",
      "  %reload_ext autoreload\n"
     ]
    }
   ],
   "source": [
    "%load_ext autoreload\n",
    "%autoreload 1\n",
    "%aimport earl.agents.r2d2.networks\n",
    "%aimport earl.agents.r2d2.r2d2\n"
   ]
  },
  {
   "cell_type": "code",
   "execution_count": 6,
   "metadata": {},
   "outputs": [
    {
     "name": "stdout",
     "output_type": "stream",
     "text": [
      "(4, 210, 160, 3)\n"
     ]
    },
    {
     "ename": "ValueError",
     "evalue": "('Input to `Conv` needs to have rank 3,', ' but input has shape (4, 210, 160, 3).')",
     "output_type": "error",
     "traceback": [
      "\u001b[0;31m---------------------------------------------------------------------------\u001b[0m",
      "\u001b[0;31mValueError\u001b[0m                                Traceback (most recent call last)",
      "Cell \u001b[0;32mIn[6], line 36\u001b[0m\n\u001b[1;32m     33\u001b[0m reward \u001b[38;5;241m=\u001b[39m jax\u001b[38;5;241m.\u001b[39mrandom\u001b[38;5;241m.\u001b[39muniform(key, (\u001b[38;5;241m1\u001b[39m,))\n\u001b[1;32m     34\u001b[0m hidden \u001b[38;5;241m=\u001b[39m (jnp\u001b[38;5;241m.\u001b[39mzeros((\u001b[38;5;241m1\u001b[39m, \u001b[38;5;241m512\u001b[39m)), jnp\u001b[38;5;241m.\u001b[39mzeros((\u001b[38;5;241m1\u001b[39m, \u001b[38;5;241m512\u001b[39m)))\n\u001b[0;32m---> 36\u001b[0m \u001b[38;5;28mprint\u001b[39m(\u001b[43mnetwork\u001b[49m\u001b[43m(\u001b[49m\u001b[43mobs\u001b[49m\u001b[43m,\u001b[49m\u001b[43m \u001b[49m\u001b[43maction\u001b[49m\u001b[43m,\u001b[49m\u001b[43m \u001b[49m\u001b[43mreward\u001b[49m\u001b[43m,\u001b[49m\u001b[43m \u001b[49m\u001b[43mhidden\u001b[49m\u001b[43m)\u001b[49m)\n",
      "File \u001b[0;32m~/src/garymm/earl/earl/agents/r2d2/r2d2.py:93\u001b[0m, in \u001b[0;36mR2D2Network.__call__\u001b[0;34m(self, observation, action, reward, hidden)\u001b[0m\n\u001b[1;32m     86\u001b[0m \u001b[38;5;28;01mdef\u001b[39;00m\u001b[38;5;250m \u001b[39m\u001b[38;5;21m__call__\u001b[39m(\n\u001b[1;32m     87\u001b[0m   \u001b[38;5;28mself\u001b[39m,\n\u001b[1;32m     88\u001b[0m   observation: jax\u001b[38;5;241m.\u001b[39mArray,\n\u001b[0;32m   (...)\u001b[0m\n\u001b[1;32m     91\u001b[0m   hidden: \u001b[38;5;28mtuple\u001b[39m[jax\u001b[38;5;241m.\u001b[39mArray, jax\u001b[38;5;241m.\u001b[39mArray],\n\u001b[1;32m     92\u001b[0m ) \u001b[38;5;241m-\u001b[39m\u001b[38;5;241m>\u001b[39m \u001b[38;5;28mtuple\u001b[39m[jax\u001b[38;5;241m.\u001b[39mArray, \u001b[38;5;28mtuple\u001b[39m[jax\u001b[38;5;241m.\u001b[39mArray, jax\u001b[38;5;241m.\u001b[39mArray]]:\n\u001b[0;32m---> 93\u001b[0m   features \u001b[38;5;241m=\u001b[39m \u001b[38;5;28;43mself\u001b[39;49m\u001b[38;5;241;43m.\u001b[39;49m\u001b[43membed\u001b[49m\u001b[43m(\u001b[49m\u001b[43mobservation\u001b[49m\u001b[43m,\u001b[49m\u001b[43m \u001b[49m\u001b[43maction\u001b[49m\u001b[43m,\u001b[49m\u001b[43m \u001b[49m\u001b[43mreward\u001b[49m\u001b[43m)\u001b[49m  \u001b[38;5;66;03m# Section 2.3.\u001b[39;00m\n\u001b[1;32m     94\u001b[0m   features \u001b[38;5;241m=\u001b[39m features\u001b[38;5;241m.\u001b[39mreshape((features\u001b[38;5;241m.\u001b[39mshape[\u001b[38;5;241m0\u001b[39m], \u001b[38;5;241m-\u001b[39m\u001b[38;5;241m1\u001b[39m))\n\u001b[1;32m     95\u001b[0m   h, c \u001b[38;5;241m=\u001b[39m \u001b[38;5;28mself\u001b[39m\u001b[38;5;241m.\u001b[39mlstm_cell(features, hidden)  \u001b[38;5;66;03m# Section 3.\u001b[39;00m\n",
      "File \u001b[0;32m~/src/garymm/earl/earl/agents/r2d2/networks.py:207\u001b[0m, in \u001b[0;36mOAREmbedding.__call__\u001b[0;34m(self, observation, action, reward)\u001b[0m\n\u001b[1;32m    205\u001b[0m \u001b[38;5;28;01mdef\u001b[39;00m\u001b[38;5;250m \u001b[39m\u001b[38;5;21m__call__\u001b[39m(\u001b[38;5;28mself\u001b[39m, observation: jax\u001b[38;5;241m.\u001b[39mArray, action: jax\u001b[38;5;241m.\u001b[39mArray, reward: jax\u001b[38;5;241m.\u001b[39mArray) \u001b[38;5;241m-\u001b[39m\u001b[38;5;241m>\u001b[39m jnp\u001b[38;5;241m.\u001b[39mndarray:\n\u001b[1;32m    206\u001b[0m \u001b[38;5;250m  \u001b[39m\u001b[38;5;124;03m\"\"\"Embed each of the (observation, action, reward) inputs & concatenate.\"\"\"\u001b[39;00m\n\u001b[0;32m--> 207\u001b[0m   features \u001b[38;5;241m=\u001b[39m \u001b[38;5;28;43mself\u001b[39;49m\u001b[38;5;241;43m.\u001b[39;49m\u001b[43mtorso\u001b[49m\u001b[43m(\u001b[49m\u001b[43mobservation\u001b[49m\u001b[43m)\u001b[49m  \u001b[38;5;66;03m# [D]\u001b[39;00m\n\u001b[1;32m    208\u001b[0m   action \u001b[38;5;241m=\u001b[39m jax\u001b[38;5;241m.\u001b[39mnn\u001b[38;5;241m.\u001b[39mone_hot(action, num_classes\u001b[38;5;241m=\u001b[39m\u001b[38;5;28mself\u001b[39m\u001b[38;5;241m.\u001b[39mnum_actions)  \u001b[38;5;66;03m# [A]\u001b[39;00m\n\u001b[1;32m    209\u001b[0m   \u001b[38;5;66;03m# Map rewards -> [-1, 1].\u001b[39;00m\n",
      "File \u001b[0;32m~/src/garymm/earl/earl/agents/r2d2/networks.py:187\u001b[0m, in \u001b[0;36mDeepAtariTorso.__call__\u001b[0;34m(self, x)\u001b[0m\n\u001b[1;32m    186\u001b[0m \u001b[38;5;28;01mdef\u001b[39;00m\u001b[38;5;250m \u001b[39m\u001b[38;5;21m__call__\u001b[39m(\u001b[38;5;28mself\u001b[39m, x: jnp\u001b[38;5;241m.\u001b[39mndarray) \u001b[38;5;241m-\u001b[39m\u001b[38;5;241m>\u001b[39m jnp\u001b[38;5;241m.\u001b[39mndarray:\n\u001b[0;32m--> 187\u001b[0m   output \u001b[38;5;241m=\u001b[39m \u001b[38;5;28;43mself\u001b[39;49m\u001b[38;5;241;43m.\u001b[39;49m\u001b[43mresnet\u001b[49m\u001b[43m(\u001b[49m\u001b[43mx\u001b[49m\u001b[43m)\u001b[49m\n\u001b[1;32m    188\u001b[0m   output \u001b[38;5;241m=\u001b[39m jax\u001b[38;5;241m.\u001b[39mnn\u001b[38;5;241m.\u001b[39mrelu(output)\n\u001b[1;32m    189\u001b[0m   \u001b[38;5;66;03m# Flatten all dimensions except batch and channel\u001b[39;00m\n",
      "File \u001b[0;32m~/src/garymm/earl/earl/agents/r2d2/networks.py:136\u001b[0m, in \u001b[0;36mResNetTorso.__call__\u001b[0;34m(self, inputs)\u001b[0m\n\u001b[1;32m    130\u001b[0m output \u001b[38;5;241m=\u001b[39m inputs\n\u001b[1;32m    132\u001b[0m \u001b[38;5;28;01mfor\u001b[39;00m (conv, maxpool), blocks \u001b[38;5;129;01min\u001b[39;00m \u001b[38;5;28mzip\u001b[39m(\n\u001b[1;32m    133\u001b[0m   \u001b[38;5;28mself\u001b[39m\u001b[38;5;241m.\u001b[39mdownsampling_layers, \u001b[38;5;28mself\u001b[39m\u001b[38;5;241m.\u001b[39mresidual_blocks, strict\u001b[38;5;241m=\u001b[39m\u001b[38;5;28;01mFalse\u001b[39;00m\n\u001b[1;32m    134\u001b[0m ):\n\u001b[1;32m    135\u001b[0m   \u001b[38;5;66;03m# Downsampling\u001b[39;00m\n\u001b[0;32m--> 136\u001b[0m   output \u001b[38;5;241m=\u001b[39m \u001b[43mconv\u001b[49m\u001b[43m(\u001b[49m\u001b[43moutput\u001b[49m\u001b[43m)\u001b[49m\n\u001b[1;32m    137\u001b[0m   output \u001b[38;5;241m=\u001b[39m maxpool(output)\n\u001b[1;32m    139\u001b[0m   \u001b[38;5;66;03m# Residual blocks\u001b[39;00m\n",
      "File \u001b[0;32m~/miniforge3/lib/python3.12/contextlib.py:81\u001b[0m, in \u001b[0;36mContextDecorator.__call__.<locals>.inner\u001b[0;34m(*args, **kwds)\u001b[0m\n\u001b[1;32m     78\u001b[0m \u001b[38;5;129m@wraps\u001b[39m(func)\n\u001b[1;32m     79\u001b[0m \u001b[38;5;28;01mdef\u001b[39;00m\u001b[38;5;250m \u001b[39m\u001b[38;5;21minner\u001b[39m(\u001b[38;5;241m*\u001b[39margs, \u001b[38;5;241m*\u001b[39m\u001b[38;5;241m*\u001b[39mkwds):\n\u001b[1;32m     80\u001b[0m     \u001b[38;5;28;01mwith\u001b[39;00m \u001b[38;5;28mself\u001b[39m\u001b[38;5;241m.\u001b[39m_recreate_cm():\n\u001b[0;32m---> 81\u001b[0m         \u001b[38;5;28;01mreturn\u001b[39;00m \u001b[43mfunc\u001b[49m\u001b[43m(\u001b[49m\u001b[38;5;241;43m*\u001b[39;49m\u001b[43margs\u001b[49m\u001b[43m,\u001b[49m\u001b[43m \u001b[49m\u001b[38;5;241;43m*\u001b[39;49m\u001b[38;5;241;43m*\u001b[39;49m\u001b[43mkwds\u001b[49m\u001b[43m)\u001b[49m\n",
      "File \u001b[0;32m~/src/garymm/earl/.venv/lib/python3.12/site-packages/equinox/nn/_conv.py:227\u001b[0m, in \u001b[0;36mConv.__call__\u001b[0;34m(self, x, key)\u001b[0m\n\u001b[1;32m    225\u001b[0m unbatched_rank \u001b[38;5;241m=\u001b[39m \u001b[38;5;28mself\u001b[39m\u001b[38;5;241m.\u001b[39mnum_spatial_dims \u001b[38;5;241m+\u001b[39m \u001b[38;5;241m1\u001b[39m\n\u001b[1;32m    226\u001b[0m \u001b[38;5;28;01mif\u001b[39;00m x\u001b[38;5;241m.\u001b[39mndim \u001b[38;5;241m!=\u001b[39m unbatched_rank:\n\u001b[0;32m--> 227\u001b[0m     \u001b[38;5;28;01mraise\u001b[39;00m \u001b[38;5;167;01mValueError\u001b[39;00m(\n\u001b[1;32m    228\u001b[0m         \u001b[38;5;124mf\u001b[39m\u001b[38;5;124m\"\u001b[39m\u001b[38;5;124mInput to `Conv` needs to have rank \u001b[39m\u001b[38;5;132;01m{\u001b[39;00munbatched_rank\u001b[38;5;132;01m}\u001b[39;00m\u001b[38;5;124m,\u001b[39m\u001b[38;5;124m\"\u001b[39m,\n\u001b[1;32m    229\u001b[0m         \u001b[38;5;124mf\u001b[39m\u001b[38;5;124m\"\u001b[39m\u001b[38;5;124m but input has shape \u001b[39m\u001b[38;5;132;01m{\u001b[39;00mx\u001b[38;5;241m.\u001b[39mshape\u001b[38;5;132;01m}\u001b[39;00m\u001b[38;5;124m.\u001b[39m\u001b[38;5;124m\"\u001b[39m,\n\u001b[1;32m    230\u001b[0m     )\n\u001b[1;32m    232\u001b[0m \u001b[38;5;28;01mif\u001b[39;00m \u001b[38;5;28mself\u001b[39m\u001b[38;5;241m.\u001b[39mpadding_mode \u001b[38;5;241m!=\u001b[39m \u001b[38;5;124m\"\u001b[39m\u001b[38;5;124mZEROS\u001b[39m\u001b[38;5;124m\"\u001b[39m:\n\u001b[1;32m    233\u001b[0m     x \u001b[38;5;241m=\u001b[39m \u001b[38;5;28mself\u001b[39m\u001b[38;5;241m.\u001b[39m_nonzero_pad(x)\n",
      "\u001b[0;31mValueError\u001b[0m: ('Input to `Conv` needs to have rank 3,', ' but input has shape (4, 210, 160, 3).')"
     ]
    }
   ],
   "source": [
    "import ale_py\n",
    "import equinox as eqx\n",
    "import gymnasium\n",
    "import jax\n",
    "import jax.numpy as jnp\n",
    "import jax.random\n",
    "\n",
    "import earl.agents.r2d2.networks\n",
    "import earl.agents.r2d2.r2d2 as r2d2\n",
    "\n",
    "gymnasium.register_envs(ale_py)  # unnecessary but helpful for IDEs\n",
    "\n",
    "env = gymnasium.make(\"ALE/Breakout-v5\")\n",
    "env = gymnasium.wrappers.FrameStackObservation(env, stack_size=4)\n",
    "\n",
    "\n",
    "\n",
    "key = jax.random.PRNGKey(0)\n",
    "torso_key, lstm_key, dueling_value_key, dueling_advantage_key = jax.random.split(key, num=4)\n",
    "network = r2d2.R2D2Network(\n",
    "  torso=earl.agents.r2d2.networks.DeepAtariTorso(\n",
    "    key=torso_key,\n",
    "  ),\n",
    "  lstm_cell=eqx.nn.LSTMCell(512, 512, key=lstm_key),\n",
    "  dueling_value=eqx.nn.Linear(512, 1, key=dueling_value_key),\n",
    "  dueling_advantage=eqx.nn.Linear(512, 1, key=dueling_advantage_key),\n",
    "  num_actions=18,\n",
    ")\n",
    "\n",
    "obs = env.observation_space.sample()\n",
    "print(obs.shape)\n",
    "obs = jnp.reshape(obs, (obs.shape[0] * obs.shape[1], obs.shape[1], obs.shape[2]))\n",
    "action = jax.random.randint(key, (1,), 0, 18)\n",
    "reward = jax.random.uniform(key, (1,))\n",
    "hidden = (jnp.zeros((1, 512)), jnp.zeros((1, 512)))\n",
    "\n",
    "print(network(obs, action, reward, hidden))\n"
   ]
  }
 ],
 "metadata": {
  "kernelspec": {
   "display_name": ".venv",
   "language": "python",
   "name": "python3"
  },
  "language_info": {
   "codemirror_mode": {
    "name": "ipython",
    "version": 3
   },
   "file_extension": ".py",
   "mimetype": "text/x-python",
   "name": "python",
   "nbconvert_exporter": "python",
   "pygments_lexer": "ipython3",
   "version": "3.12.8"
  }
 },
 "nbformat": 4,
 "nbformat_minor": 2
}
